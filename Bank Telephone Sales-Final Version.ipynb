{
 "cells": [
  {
   "cell_type": "code",
   "execution_count": 1,
   "id": "9fd2bf69",
   "metadata": {},
   "outputs": [],
   "source": [
    "import numpy as np\n",
    "import pandas as pd\n",
    "import warnings\n",
    "warnings.filterwarnings('ignore')\n",
    "import matplotlib.pyplot as plt\n",
    "import seaborn as sns\n",
    "from scipy.stats import norm\n",
    "from scipy import stats\n"
   ]
  },
  {
   "cell_type": "code",
   "execution_count": 2,
   "id": "47b69a4e",
   "metadata": {},
   "outputs": [],
   "source": [
    "data=pd.read_csv('C://Users//vivia//OneDrive//Desktop//telephone sales data.csv')"
   ]
  },
  {
   "cell_type": "code",
   "execution_count": 3,
   "id": "ed9baf0b",
   "metadata": {},
   "outputs": [
    {
     "data": {
      "text/plain": [
       "(28645, 21)"
      ]
     },
     "execution_count": 3,
     "metadata": {},
     "output_type": "execute_result"
    }
   ],
   "source": [
    "data.shape"
   ]
  },
  {
   "cell_type": "markdown",
   "id": "07eaa40c",
   "metadata": {},
   "source": [
    "# 1.Data preprocessing"
   ]
  },
  {
   "cell_type": "code",
   "execution_count": 4,
   "id": "d276bee9",
   "metadata": {},
   "outputs": [],
   "source": [
    "#check null value\n",
    "null_column=data.isna().sum()[data.isna().sum()>0].index.tolist()"
   ]
  },
  {
   "cell_type": "code",
   "execution_count": 5,
   "id": "6509d197",
   "metadata": {},
   "outputs": [
    {
     "data": {
      "text/plain": [
       "[]"
      ]
     },
     "execution_count": 5,
     "metadata": {},
     "output_type": "execute_result"
    }
   ],
   "source": [
    "null_column"
   ]
  },
  {
   "cell_type": "code",
   "execution_count": 6,
   "id": "a43f266e",
   "metadata": {},
   "outputs": [
    {
     "data": {
      "text/plain": [
       "0"
      ]
     },
     "execution_count": 6,
     "metadata": {},
     "output_type": "execute_result"
    }
   ],
   "source": [
    "#check duplicated value\n",
    "data.duplicated().sum()"
   ]
  },
  {
   "cell_type": "code",
   "execution_count": 7,
   "id": "759ce059",
   "metadata": {},
   "outputs": [
    {
     "data": {
      "text/plain": [
       "id                  int64\n",
       "age                 int64\n",
       "job                object\n",
       "marital            object\n",
       "education          object\n",
       "default            object\n",
       "housing            object\n",
       "loan               object\n",
       "contact            object\n",
       "month              object\n",
       "day_of_week        object\n",
       "campaign            int64\n",
       "pdays               int64\n",
       "previous            int64\n",
       "poutcome           object\n",
       "emp.var.rate      float64\n",
       "cons.price.idx    float64\n",
       "cons.conf.idx     float64\n",
       "euribor3m         float64\n",
       "nr.employed       float64\n",
       "y                  object\n",
       "dtype: object"
      ]
     },
     "execution_count": 7,
     "metadata": {},
     "output_type": "execute_result"
    }
   ],
   "source": [
    "#data type\n",
    "data.dtypes"
   ]
  },
  {
   "cell_type": "code",
   "execution_count": 8,
   "id": "36007288",
   "metadata": {},
   "outputs": [
    {
     "data": {
      "text/html": [
       "<div>\n",
       "<style scoped>\n",
       "    .dataframe tbody tr th:only-of-type {\n",
       "        vertical-align: middle;\n",
       "    }\n",
       "\n",
       "    .dataframe tbody tr th {\n",
       "        vertical-align: top;\n",
       "    }\n",
       "\n",
       "    .dataframe thead th {\n",
       "        text-align: right;\n",
       "    }\n",
       "</style>\n",
       "<table border=\"1\" class=\"dataframe\">\n",
       "  <thead>\n",
       "    <tr style=\"text-align: right;\">\n",
       "      <th></th>\n",
       "      <th>id</th>\n",
       "      <th>age</th>\n",
       "      <th>campaign</th>\n",
       "      <th>pdays</th>\n",
       "      <th>previous</th>\n",
       "      <th>emp.var.rate</th>\n",
       "      <th>cons.price.idx</th>\n",
       "      <th>cons.conf.idx</th>\n",
       "      <th>euribor3m</th>\n",
       "      <th>nr.employed</th>\n",
       "    </tr>\n",
       "  </thead>\n",
       "  <tbody>\n",
       "    <tr>\n",
       "      <th>count</th>\n",
       "      <td>28645.000000</td>\n",
       "      <td>28645.000000</td>\n",
       "      <td>28645.000000</td>\n",
       "      <td>28645.000000</td>\n",
       "      <td>28645.000000</td>\n",
       "      <td>28645.000000</td>\n",
       "      <td>28645.000000</td>\n",
       "      <td>28645.000000</td>\n",
       "      <td>28645.000000</td>\n",
       "      <td>28645.000000</td>\n",
       "    </tr>\n",
       "    <tr>\n",
       "      <th>mean</th>\n",
       "      <td>20605.360272</td>\n",
       "      <td>39.983522</td>\n",
       "      <td>2.558597</td>\n",
       "      <td>962.634177</td>\n",
       "      <td>0.168546</td>\n",
       "      <td>0.081533</td>\n",
       "      <td>93.575515</td>\n",
       "      <td>-40.482845</td>\n",
       "      <td>3.621971</td>\n",
       "      <td>5167.001431</td>\n",
       "    </tr>\n",
       "    <tr>\n",
       "      <th>std</th>\n",
       "      <td>11885.805422</td>\n",
       "      <td>10.420328</td>\n",
       "      <td>2.759939</td>\n",
       "      <td>186.526076</td>\n",
       "      <td>0.486813</td>\n",
       "      <td>1.574052</td>\n",
       "      <td>0.579850</td>\n",
       "      <td>4.639215</td>\n",
       "      <td>1.735531</td>\n",
       "      <td>72.344892</td>\n",
       "    </tr>\n",
       "    <tr>\n",
       "      <th>min</th>\n",
       "      <td>1.000000</td>\n",
       "      <td>17.000000</td>\n",
       "      <td>1.000000</td>\n",
       "      <td>0.000000</td>\n",
       "      <td>0.000000</td>\n",
       "      <td>-3.400000</td>\n",
       "      <td>92.201000</td>\n",
       "      <td>-50.800000</td>\n",
       "      <td>0.634000</td>\n",
       "      <td>4963.600000</td>\n",
       "    </tr>\n",
       "    <tr>\n",
       "      <th>25%</th>\n",
       "      <td>10354.000000</td>\n",
       "      <td>32.000000</td>\n",
       "      <td>1.000000</td>\n",
       "      <td>999.000000</td>\n",
       "      <td>0.000000</td>\n",
       "      <td>-1.800000</td>\n",
       "      <td>93.075000</td>\n",
       "      <td>-42.700000</td>\n",
       "      <td>1.344000</td>\n",
       "      <td>5099.100000</td>\n",
       "    </tr>\n",
       "    <tr>\n",
       "      <th>50%</th>\n",
       "      <td>20547.000000</td>\n",
       "      <td>38.000000</td>\n",
       "      <td>2.000000</td>\n",
       "      <td>999.000000</td>\n",
       "      <td>0.000000</td>\n",
       "      <td>1.100000</td>\n",
       "      <td>93.798000</td>\n",
       "      <td>-41.800000</td>\n",
       "      <td>4.857000</td>\n",
       "      <td>5191.000000</td>\n",
       "    </tr>\n",
       "    <tr>\n",
       "      <th>75%</th>\n",
       "      <td>30921.000000</td>\n",
       "      <td>47.000000</td>\n",
       "      <td>3.000000</td>\n",
       "      <td>999.000000</td>\n",
       "      <td>0.000000</td>\n",
       "      <td>1.400000</td>\n",
       "      <td>93.994000</td>\n",
       "      <td>-36.400000</td>\n",
       "      <td>4.961000</td>\n",
       "      <td>5228.100000</td>\n",
       "    </tr>\n",
       "    <tr>\n",
       "      <th>max</th>\n",
       "      <td>41187.000000</td>\n",
       "      <td>98.000000</td>\n",
       "      <td>43.000000</td>\n",
       "      <td>999.000000</td>\n",
       "      <td>7.000000</td>\n",
       "      <td>1.400000</td>\n",
       "      <td>94.767000</td>\n",
       "      <td>-26.900000</td>\n",
       "      <td>5.045000</td>\n",
       "      <td>5228.100000</td>\n",
       "    </tr>\n",
       "  </tbody>\n",
       "</table>\n",
       "</div>"
      ],
      "text/plain": [
       "                 id           age      campaign         pdays      previous  \\\n",
       "count  28645.000000  28645.000000  28645.000000  28645.000000  28645.000000   \n",
       "mean   20605.360272     39.983522      2.558597    962.634177      0.168546   \n",
       "std    11885.805422     10.420328      2.759939    186.526076      0.486813   \n",
       "min        1.000000     17.000000      1.000000      0.000000      0.000000   \n",
       "25%    10354.000000     32.000000      1.000000    999.000000      0.000000   \n",
       "50%    20547.000000     38.000000      2.000000    999.000000      0.000000   \n",
       "75%    30921.000000     47.000000      3.000000    999.000000      0.000000   \n",
       "max    41187.000000     98.000000     43.000000    999.000000      7.000000   \n",
       "\n",
       "       emp.var.rate  cons.price.idx  cons.conf.idx     euribor3m   nr.employed  \n",
       "count  28645.000000    28645.000000   28645.000000  28645.000000  28645.000000  \n",
       "mean       0.081533       93.575515     -40.482845      3.621971   5167.001431  \n",
       "std        1.574052        0.579850       4.639215      1.735531     72.344892  \n",
       "min       -3.400000       92.201000     -50.800000      0.634000   4963.600000  \n",
       "25%       -1.800000       93.075000     -42.700000      1.344000   5099.100000  \n",
       "50%        1.100000       93.798000     -41.800000      4.857000   5191.000000  \n",
       "75%        1.400000       93.994000     -36.400000      4.961000   5228.100000  \n",
       "max        1.400000       94.767000     -26.900000      5.045000   5228.100000  "
      ]
     },
     "execution_count": 8,
     "metadata": {},
     "output_type": "execute_result"
    }
   ],
   "source": [
    "data.describe()"
   ]
  },
  {
   "cell_type": "code",
   "execution_count": 9,
   "id": "5818d63c",
   "metadata": {},
   "outputs": [
    {
     "name": "stdout",
     "output_type": "stream",
     "text": [
      "id :number of unknown values: 0\n",
      "age :number of unknown values: 0\n",
      "job :number of unknown values: 242\n",
      "marital :number of unknown values: 56\n",
      "education :number of unknown values: 1210\n",
      "default :number of unknown values: 5952\n",
      "housing :number of unknown values: 704\n",
      "loan :number of unknown values: 704\n",
      "contact :number of unknown values: 0\n",
      "month :number of unknown values: 0\n",
      "day_of_week :number of unknown values: 0\n",
      "campaign :number of unknown values: 0\n",
      "pdays :number of unknown values: 0\n",
      "previous :number of unknown values: 0\n",
      "poutcome :number of unknown values: 0\n",
      "emp.var.rate :number of unknown values: 0\n",
      "cons.price.idx :number of unknown values: 0\n",
      "cons.conf.idx :number of unknown values: 0\n",
      "euribor3m :number of unknown values: 0\n",
      "nr.employed :number of unknown values: 0\n",
      "y :number of unknown values: 0\n"
     ]
    }
   ],
   "source": [
    "#columns with unknown values\n",
    "unknown_list=[]\n",
    "for i in data.columns.values.tolist():\n",
    "    print(i,':number of unknown values:',sum(data[i]=='unknown'))\n",
    "    if(sum(data[i]=='unknown')>0):\n",
    "        unknown_list.append(i)"
   ]
  },
  {
   "cell_type": "code",
   "execution_count": 10,
   "id": "eef57349",
   "metadata": {},
   "outputs": [
    {
     "data": {
      "text/plain": [
       "['job', 'marital', 'education', 'default', 'housing', 'loan']"
      ]
     },
     "execution_count": 10,
     "metadata": {},
     "output_type": "execute_result"
    }
   ],
   "source": [
    "unknown_list"
   ]
  },
  {
   "cell_type": "code",
   "execution_count": 12,
   "id": "5612ddde",
   "metadata": {},
   "outputs": [],
   "source": [
    "#if we make unknown values into dummies\n",
    "d1=data"
   ]
  },
  {
   "cell_type": "code",
   "execution_count": 13,
   "id": "056b6fec",
   "metadata": {},
   "outputs": [],
   "source": [
    "d1=pd.get_dummies(d1,columns=unknown_list)"
   ]
  },
  {
   "cell_type": "code",
   "execution_count": 14,
   "id": "687b61fb",
   "metadata": {},
   "outputs": [
    {
     "data": {
      "text/html": [
       "<div>\n",
       "<style scoped>\n",
       "    .dataframe tbody tr th:only-of-type {\n",
       "        vertical-align: middle;\n",
       "    }\n",
       "\n",
       "    .dataframe tbody tr th {\n",
       "        vertical-align: top;\n",
       "    }\n",
       "\n",
       "    .dataframe thead th {\n",
       "        text-align: right;\n",
       "    }\n",
       "</style>\n",
       "<table border=\"1\" class=\"dataframe\">\n",
       "  <thead>\n",
       "    <tr style=\"text-align: right;\">\n",
       "      <th></th>\n",
       "      <th>id</th>\n",
       "      <th>age</th>\n",
       "      <th>contact</th>\n",
       "      <th>month</th>\n",
       "      <th>day_of_week</th>\n",
       "      <th>campaign</th>\n",
       "      <th>pdays</th>\n",
       "      <th>previous</th>\n",
       "      <th>poutcome</th>\n",
       "      <th>emp.var.rate</th>\n",
       "      <th>...</th>\n",
       "      <th>education_unknown</th>\n",
       "      <th>default_no</th>\n",
       "      <th>default_unknown</th>\n",
       "      <th>default_yes</th>\n",
       "      <th>housing_no</th>\n",
       "      <th>housing_unknown</th>\n",
       "      <th>housing_yes</th>\n",
       "      <th>loan_no</th>\n",
       "      <th>loan_unknown</th>\n",
       "      <th>loan_yes</th>\n",
       "    </tr>\n",
       "  </thead>\n",
       "  <tbody>\n",
       "    <tr>\n",
       "      <th>0</th>\n",
       "      <td>1</td>\n",
       "      <td>52</td>\n",
       "      <td>cellular</td>\n",
       "      <td>nov</td>\n",
       "      <td>tue</td>\n",
       "      <td>1</td>\n",
       "      <td>999</td>\n",
       "      <td>0</td>\n",
       "      <td>nonexistent</td>\n",
       "      <td>-0.1</td>\n",
       "      <td>...</td>\n",
       "      <td>0</td>\n",
       "      <td>1</td>\n",
       "      <td>0</td>\n",
       "      <td>0</td>\n",
       "      <td>0</td>\n",
       "      <td>0</td>\n",
       "      <td>1</td>\n",
       "      <td>1</td>\n",
       "      <td>0</td>\n",
       "      <td>0</td>\n",
       "    </tr>\n",
       "    <tr>\n",
       "      <th>1</th>\n",
       "      <td>2</td>\n",
       "      <td>33</td>\n",
       "      <td>cellular</td>\n",
       "      <td>nov</td>\n",
       "      <td>thu</td>\n",
       "      <td>1</td>\n",
       "      <td>999</td>\n",
       "      <td>0</td>\n",
       "      <td>nonexistent</td>\n",
       "      <td>-0.1</td>\n",
       "      <td>...</td>\n",
       "      <td>0</td>\n",
       "      <td>1</td>\n",
       "      <td>0</td>\n",
       "      <td>0</td>\n",
       "      <td>0</td>\n",
       "      <td>0</td>\n",
       "      <td>1</td>\n",
       "      <td>1</td>\n",
       "      <td>0</td>\n",
       "      <td>0</td>\n",
       "    </tr>\n",
       "    <tr>\n",
       "      <th>2</th>\n",
       "      <td>5</td>\n",
       "      <td>54</td>\n",
       "      <td>cellular</td>\n",
       "      <td>may</td>\n",
       "      <td>mon</td>\n",
       "      <td>1</td>\n",
       "      <td>999</td>\n",
       "      <td>0</td>\n",
       "      <td>nonexistent</td>\n",
       "      <td>-1.8</td>\n",
       "      <td>...</td>\n",
       "      <td>0</td>\n",
       "      <td>1</td>\n",
       "      <td>0</td>\n",
       "      <td>0</td>\n",
       "      <td>0</td>\n",
       "      <td>0</td>\n",
       "      <td>1</td>\n",
       "      <td>1</td>\n",
       "      <td>0</td>\n",
       "      <td>0</td>\n",
       "    </tr>\n",
       "    <tr>\n",
       "      <th>3</th>\n",
       "      <td>6</td>\n",
       "      <td>53</td>\n",
       "      <td>cellular</td>\n",
       "      <td>jun</td>\n",
       "      <td>thu</td>\n",
       "      <td>1</td>\n",
       "      <td>999</td>\n",
       "      <td>2</td>\n",
       "      <td>failure</td>\n",
       "      <td>-2.9</td>\n",
       "      <td>...</td>\n",
       "      <td>0</td>\n",
       "      <td>1</td>\n",
       "      <td>0</td>\n",
       "      <td>0</td>\n",
       "      <td>1</td>\n",
       "      <td>0</td>\n",
       "      <td>0</td>\n",
       "      <td>0</td>\n",
       "      <td>0</td>\n",
       "      <td>1</td>\n",
       "    </tr>\n",
       "    <tr>\n",
       "      <th>4</th>\n",
       "      <td>8</td>\n",
       "      <td>42</td>\n",
       "      <td>cellular</td>\n",
       "      <td>aug</td>\n",
       "      <td>tue</td>\n",
       "      <td>2</td>\n",
       "      <td>999</td>\n",
       "      <td>0</td>\n",
       "      <td>nonexistent</td>\n",
       "      <td>1.4</td>\n",
       "      <td>...</td>\n",
       "      <td>0</td>\n",
       "      <td>0</td>\n",
       "      <td>1</td>\n",
       "      <td>0</td>\n",
       "      <td>0</td>\n",
       "      <td>0</td>\n",
       "      <td>1</td>\n",
       "      <td>1</td>\n",
       "      <td>0</td>\n",
       "      <td>0</td>\n",
       "    </tr>\n",
       "  </tbody>\n",
       "</table>\n",
       "<p>5 rows × 48 columns</p>\n",
       "</div>"
      ],
      "text/plain": [
       "   id  age   contact month day_of_week  campaign  pdays  previous  \\\n",
       "0   1   52  cellular   nov         tue         1    999         0   \n",
       "1   2   33  cellular   nov         thu         1    999         0   \n",
       "2   5   54  cellular   may         mon         1    999         0   \n",
       "3   6   53  cellular   jun         thu         1    999         2   \n",
       "4   8   42  cellular   aug         tue         2    999         0   \n",
       "\n",
       "      poutcome  emp.var.rate  ...  education_unknown  default_no  \\\n",
       "0  nonexistent          -0.1  ...                  0           1   \n",
       "1  nonexistent          -0.1  ...                  0           1   \n",
       "2  nonexistent          -1.8  ...                  0           1   \n",
       "3      failure          -2.9  ...                  0           1   \n",
       "4  nonexistent           1.4  ...                  0           0   \n",
       "\n",
       "   default_unknown  default_yes housing_no  housing_unknown  housing_yes  \\\n",
       "0                0            0          0                0            1   \n",
       "1                0            0          0                0            1   \n",
       "2                0            0          0                0            1   \n",
       "3                0            0          1                0            0   \n",
       "4                1            0          0                0            1   \n",
       "\n",
       "   loan_no  loan_unknown  loan_yes  \n",
       "0        1             0         0  \n",
       "1        1             0         0  \n",
       "2        1             0         0  \n",
       "3        0             0         1  \n",
       "4        1             0         0  \n",
       "\n",
       "[5 rows x 48 columns]"
      ]
     },
     "execution_count": 14,
     "metadata": {},
     "output_type": "execute_result"
    }
   ],
   "source": [
    "d1.head()"
   ]
  },
  {
   "cell_type": "code",
   "execution_count": 15,
   "id": "84cc9496",
   "metadata": {},
   "outputs": [],
   "source": [
    "#use unknown as base group\n",
    "#drop unknown columns\n",
    "unknown_list_u=[0,0,0,0,0,0]\n",
    "for i in range(len(unknown_list)):\n",
    "    unknown_list_u[i]=unknown_list[i]+'_unknown'"
   ]
  },
  {
   "cell_type": "code",
   "execution_count": 16,
   "id": "4bfc5787",
   "metadata": {},
   "outputs": [],
   "source": [
    "d1=d1.drop(columns=unknown_list_u)"
   ]
  },
  {
   "cell_type": "code",
   "execution_count": 17,
   "id": "1a9b407b",
   "metadata": {},
   "outputs": [],
   "source": [
    "#Remove id\n",
    "d1=d1.drop('id',axis=1)"
   ]
  },
  {
   "cell_type": "code",
   "execution_count": 18,
   "id": "ef0972df",
   "metadata": {},
   "outputs": [],
   "source": [
    "#make string columns into dummies\n",
    "d1=pd.get_dummies(d1,columns=['contact','poutcome','month','day_of_week'],drop_first=True)"
   ]
  },
  {
   "cell_type": "code",
   "execution_count": 19,
   "id": "cfdee28b",
   "metadata": {},
   "outputs": [],
   "source": [
    "#transform y to boolean\n",
    "d1.loc[:,'y']=(d1.loc[:,'y']=='yes')"
   ]
  },
  {
   "cell_type": "code",
   "execution_count": 20,
   "id": "a14af374",
   "metadata": {},
   "outputs": [
    {
     "data": {
      "text/plain": [
       "array(['age', 'campaign', 'pdays', 'previous', 'emp.var.rate',\n",
       "       'cons.price.idx', 'cons.conf.idx', 'euribor3m', 'nr.employed', 'y',\n",
       "       'job_admin.', 'job_blue-collar', 'job_entrepreneur',\n",
       "       'job_housemaid', 'job_management', 'job_retired',\n",
       "       'job_self-employed', 'job_services', 'job_student',\n",
       "       'job_technician', 'job_unemployed', 'marital_divorced',\n",
       "       'marital_married', 'marital_single', 'education_basic.4y',\n",
       "       'education_basic.6y', 'education_basic.9y',\n",
       "       'education_high.school', 'education_illiterate',\n",
       "       'education_professional.course', 'education_university.degree',\n",
       "       'default_no', 'default_yes', 'housing_no', 'housing_yes',\n",
       "       'loan_no', 'loan_yes', 'contact_telephone', 'poutcome_nonexistent',\n",
       "       'poutcome_success', 'month_aug', 'month_dec', 'month_jul',\n",
       "       'month_jun', 'month_mar', 'month_may', 'month_nov', 'month_oct',\n",
       "       'month_sep', 'day_of_week_mon', 'day_of_week_thu',\n",
       "       'day_of_week_tue', 'day_of_week_wed'], dtype=object)"
      ]
     },
     "execution_count": 20,
     "metadata": {},
     "output_type": "execute_result"
    }
   ],
   "source": [
    "d1.columns.values"
   ]
  },
  {
   "cell_type": "markdown",
   "id": "5569a9c7",
   "metadata": {},
   "source": [
    "### Feature Scaling"
   ]
  },
  {
   "cell_type": "code",
   "execution_count": 21,
   "id": "f41ba58a",
   "metadata": {},
   "outputs": [],
   "source": [
    "from sklearn.preprocessing import MinMaxScaler \n",
    "scaler = MinMaxScaler(feature_range=(0, 1)) \n",
    "d1= pd.DataFrame(scaler.fit_transform(d1), columns = d1.columns) "
   ]
  },
  {
   "cell_type": "markdown",
   "id": "095a28a4",
   "metadata": {},
   "source": [
    "### Split the dataset into training set and test set"
   ]
  },
  {
   "cell_type": "code",
   "execution_count": 22,
   "id": "f943101e",
   "metadata": {},
   "outputs": [],
   "source": [
    "X=d1.loc[:,d1.columns.values!='y']\n",
    "y=d1.loc[:,'y']"
   ]
  },
  {
   "cell_type": "code",
   "execution_count": 23,
   "id": "2a45b17e",
   "metadata": {},
   "outputs": [],
   "source": [
    "from sklearn.model_selection import train_test_split\n",
    "train_x, test_x, train_y, test_y = train_test_split(X, y, test_size=0.2,shuffle=True)"
   ]
  },
  {
   "cell_type": "markdown",
   "id": "9cb8b03f",
   "metadata": {},
   "source": [
    "### Feature Oversampling"
   ]
  },
  {
   "cell_type": "code",
   "execution_count": 24,
   "id": "3be7555f",
   "metadata": {},
   "outputs": [],
   "source": [
    "from imblearn.over_sampling import SMOTE\n",
    "Smote = SMOTE(random_state=11) \n",
    "X_train_over, y_train_over = Smote.fit_resample(train_x, train_y) "
   ]
  },
  {
   "cell_type": "code",
   "execution_count": 25,
   "id": "2185dab8",
   "metadata": {},
   "outputs": [
    {
     "data": {
      "text/plain": [
       "(40516, 52)"
      ]
     },
     "execution_count": 25,
     "metadata": {},
     "output_type": "execute_result"
    }
   ],
   "source": [
    "X_train_over.shape"
   ]
  },
  {
   "cell_type": "markdown",
   "id": "44065b9f",
   "metadata": {},
   "source": [
    "# 2.Modeling"
   ]
  },
  {
   "cell_type": "markdown",
   "id": "7e6db38c",
   "metadata": {},
   "source": [
    "### SVM"
   ]
  },
  {
   "cell_type": "code",
   "execution_count": 49,
   "id": "b74058de",
   "metadata": {},
   "outputs": [],
   "source": [
    "from sklearn.svm import SVC \n",
    "from sklearn.model_selection import cross_val_score, cross_validate \n",
    "from sklearn.metrics import classification_report, confusion_matrix\n",
    "from sklearn.metrics import f1_score,accuracy_score,roc_auc_score\n",
    "from sklearn.model_selection import GridSearchCV"
   ]
  },
  {
   "cell_type": "code",
   "execution_count": 27,
   "id": "d2274cc0",
   "metadata": {},
   "outputs": [],
   "source": [
    "# linear \n",
    "svc = SVC(kernel = 'linear') \n",
    " \n",
    "# rbf \n",
    "svc_rbf = SVC(kernel = 'rbf')"
   ]
  },
  {
   "cell_type": "code",
   "execution_count": 29,
   "id": "a60535b5",
   "metadata": {},
   "outputs": [
    {
     "name": "stdout",
     "output_type": "stream",
     "text": [
      "[0.71581935 0.72763174 0.73960262 0.72639763 0.72923609]\n",
      "0.7277374844045793\n"
     ]
    }
   ],
   "source": [
    "#1. Cross Validation \n",
    "# linear \n",
    "scores = cross_val_score(svc, X_train_over, y_train_over, cv = 5) \n",
    "print(scores) \n",
    "print(scores.mean()) "
   ]
  },
  {
   "cell_type": "code",
   "execution_count": 30,
   "id": "a3a56af3",
   "metadata": {},
   "outputs": [
    {
     "name": "stdout",
     "output_type": "stream",
     "text": [
      "[0.76258638 0.88930026 0.88843638 0.89571764 0.89510058]\n",
      "0.8662282466647637\n"
     ]
    }
   ],
   "source": [
    "# rbf\n",
    "scores2 = cross_val_score(svc_rbf, X_train_over, y_train_over, cv = 5) \n",
    "print(scores2) \n",
    "print(scores2.mean())"
   ]
  },
  {
   "cell_type": "code",
   "execution_count": null,
   "id": "225b407f",
   "metadata": {},
   "outputs": [],
   "source": [
    " ## -> 'rbf' is better"
   ]
  },
  {
   "cell_type": "code",
   "execution_count": null,
   "id": "b762598b",
   "metadata": {},
   "outputs": [],
   "source": [
    "#2. Grid Search\n",
    "param_grid = {'C':[0.1, 1, 10, 50, 100, 1000], \n",
    "              'gamma': [1, 0.1, 0.01, 0.001, 0.0001]} \n",
    " \n",
    "grid = GridSearchCV(SVC(kernel = 'rbf'), param_grid, refit=True, verbose =3, cv = 3) \n",
    " \n",
    "grid.fit(X_train_over, y_train_over) \n",
    " \n",
    "print(grid.best_params_) # {'C': 10, 'gamma': 1} \n",
    "print(grid.best_estimator_) # SVC(C=10, gamma=1)"
   ]
  },
  {
   "cell_type": "code",
   "execution_count": null,
   "id": "ce12ef11",
   "metadata": {},
   "outputs": [],
   "source": [
    "#3. Modeling with best params\n",
    "svc_rbf = SVC(kernel = 'rbf', C = 10, gamma = 1) \n",
    "svc_rbf.fit(X_train_over, y_train_over) \n",
    "y_pred_rbf = svc_rbf.predict(test_x) "
   ]
  },
  {
   "cell_type": "code",
   "execution_count": 50,
   "id": "51945bd2",
   "metadata": {},
   "outputs": [
    {
     "name": "stdout",
     "output_type": "stream",
     "text": [
      "SVM f1 score:0.20\n",
      "SVM AUC score:0.55\n",
      "SVM Accuracy score:0.84\n"
     ]
    }
   ],
   "source": [
    "#4. Accuracy\n",
    "print('SVM f1 score:{:.2f}'.format(f1_score(test_y, y_pred_rbf))) \n",
    "print('SVM AUC score:{:.2f}'.format(roc_auc_score(test_y, y_pred_rbf)))\n",
    "print('SVM Accuracy score:{:.2f}'.format(accuracy_score(test_y, y_pred_rbf)))"
   ]
  },
  {
   "cell_type": "markdown",
   "id": "9b6bf3ef",
   "metadata": {},
   "source": [
    "### Gradient Boosting"
   ]
  },
  {
   "cell_type": "code",
   "execution_count": 41,
   "id": "3e7294a0",
   "metadata": {},
   "outputs": [],
   "source": [
    "from sklearn.ensemble import GradientBoostingClassifier "
   ]
  },
  {
   "cell_type": "code",
   "execution_count": null,
   "id": "6dca651d",
   "metadata": {},
   "outputs": [],
   "source": [
    "#1. Grid Search\n",
    "params = { \n",
    "\n",
    "    \"loss\": [\"deviance\"], \n",
    "\n",
    "    \"learning_rate\": [0.01, 0.05, 0.1, 0.2], \n",
    "\n",
    "    \"max_depth\": [3, 5, 8], \n",
    "\n",
    "    \"max_features\": ['log2', 'sqrt'], \n",
    "\n",
    "    \"n_estimators\": [10, 50, 100] \n",
    "\n",
    "} \n",
    "\n",
    "clf = GridSearchCV(GradientBoostingClassifier(), params, cv = 5, n_jobs = 1) "
   ]
  },
  {
   "cell_type": "code",
   "execution_count": 58,
   "id": "da7012ce",
   "metadata": {},
   "outputs": [],
   "source": [
    "best_params_gdb={'learning_rate': 0.05, 'loss': 'deviance', 'max_depth': 5, 'max_features': 'sqrt', 'n_estimators': 100}"
   ]
  },
  {
   "cell_type": "code",
   "execution_count": 59,
   "id": "ce55fd0b",
   "metadata": {},
   "outputs": [],
   "source": [
    "#2. Modeling with best params\n",
    "gdb=GradientBoostingClassifier(**best_params_gdb)\n",
    "gdb.fit(X_train_over, y_train_over)\n",
    "y_pred_gdb=gdb.predict(test_x)"
   ]
  },
  {
   "cell_type": "code",
   "execution_count": 60,
   "id": "a912f487",
   "metadata": {},
   "outputs": [
    {
     "name": "stdout",
     "output_type": "stream",
     "text": [
      "Gradient Boosting f1 score:0.49\n",
      "Gradient Boosting AUC score:0.74\n",
      "Gradient Boosting Accuracy score:0.87\n"
     ]
    }
   ],
   "source": [
    "#3. Accuracy\n",
    "print('Gradient Boosting f1 score:{:.2f}'.format(f1_score(test_y, y_pred_gdb))) \n",
    "print('Gradient Boosting AUC score:{:.2f}'.format(roc_auc_score(test_y, y_pred_gdb)))\n",
    "print('Gradient Boosting Accuracy score:{:.2f}'.format(accuracy_score(test_y, y_pred_gdb)))"
   ]
  },
  {
   "cell_type": "markdown",
   "id": "3c322c2d",
   "metadata": {},
   "source": [
    "### Logistic Regression"
   ]
  },
  {
   "cell_type": "code",
   "execution_count": 53,
   "id": "374ebbc3",
   "metadata": {},
   "outputs": [],
   "source": [
    "from sklearn.linear_model import LogisticRegression"
   ]
  },
  {
   "cell_type": "code",
   "execution_count": null,
   "id": "c6e1fb18",
   "metadata": {},
   "outputs": [],
   "source": [
    "#1. Grid Search\n",
    "lr = LogisticRegression(random_state=0, solver='liblinear') \n",
    "params = {'C': [0.1, 1, 3, 5, 10], \n",
    "          'max_iter': [10, 100, 1000], \n",
    "          \"penalty\": [\"l1\", \"l2\"]} \n",
    "lr_griv_cv = GridSearchCV(lr, param_grid=params, cv=3, scoring='accuracy', verbose=1)"
   ]
  },
  {
   "cell_type": "code",
   "execution_count": 62,
   "id": "33310f72",
   "metadata": {},
   "outputs": [],
   "source": [
    "best_params_lr={'C': 10, 'max_iter': 10, 'penalty': 'l2'} "
   ]
  },
  {
   "cell_type": "code",
   "execution_count": 63,
   "id": "0b71371e",
   "metadata": {},
   "outputs": [],
   "source": [
    "#2. Modeling with best params\n",
    "lr=LogisticRegression(**best_params_lr,random_state=0, solver='liblinear') \n",
    "lr.fit(X_train_over, y_train_over)\n",
    "y_pred_lr=lr.predict(test_x)"
   ]
  },
  {
   "cell_type": "code",
   "execution_count": 64,
   "id": "e5aa1bb8",
   "metadata": {},
   "outputs": [
    {
     "name": "stdout",
     "output_type": "stream",
     "text": [
      "Logistic Regression f1 score:0.41\n",
      "Logistic Regression AUC score:0.74\n",
      "Logistic Regression Accuracy score:0.79\n"
     ]
    }
   ],
   "source": [
    "#3. Accuracy\n",
    "print('Logistic Regression f1 score:{:.2f}'.format(f1_score(test_y, y_pred_lr))) \n",
    "print('Logistic Regression AUC score:{:.2f}'.format(roc_auc_score(test_y, y_pred_lr)))\n",
    "print('Logistic Regression Accuracy score:{:.2f}'.format(accuracy_score(test_y, y_pred_lr)))"
   ]
  },
  {
   "cell_type": "code",
   "execution_count": 133,
   "id": "a580b331",
   "metadata": {},
   "outputs": [
    {
     "data": {
      "image/png": "[encoded data removed]",
      "text/plain": [
       "<Figure size 1500x400 with 1 Axes>"
      ]
     },
     "metadata": {},
     "output_type": "display_data"
    }
   ],
   "source": [
    "#4. Feature Importance\n",
    "importances = pd.DataFrame(data={\n",
    "    'Attribute': X_train_over.columns,\n",
    "    'Importance': lr.coef_[0]\n",
    "})\n",
    "importances = importances.sort_values(by='Importance', ascending=False)\n",
    "plt.figure(figsize=(15,4))\n",
    "plt.bar(x=importances['Attribute'], height=importances['Importance'], color='#087E8B')\n",
    "plt.title('Feature importances obtained from coefficients', size=20)\n",
    "plt.xticks(rotation='vertical')\n",
    "plt.show()"
   ]
  },
  {
   "cell_type": "markdown",
   "id": "a43c79c4",
   "metadata": {},
   "source": [
    "### Random Forest"
   ]
  },
  {
   "cell_type": "code",
   "execution_count": 56,
   "id": "68d3df0f",
   "metadata": {},
   "outputs": [],
   "source": [
    "from sklearn.ensemble import RandomForestClassifier"
   ]
  },
  {
   "cell_type": "code",
   "execution_count": null,
   "id": "602ccc3c",
   "metadata": {},
   "outputs": [],
   "source": [
    "#1. Grid Search\n",
    "rnd_clf = RandomForestClassifier() \n",
    "param_grid = {'n_estimators': [100, 200, 350, 500], \n",
    "              'criterion' :['gini', 'entropy'],\n",
    "             'bootstrap':[False,True],\n",
    "            'min_samples_leaf':np.arange(1,10,2),\n",
    "            'min_samples_split':np.arange(1,10,2),\n",
    "            'max_features':['auto','sqrt','log2'],\n",
    "            'max_depth' : np.arange(9,12,1)\n",
    "             }\n",
    "gscv_rnd = GridSearchCV(rnd_clf, param_grid, scoring = 'accuracy',cv = 5) "
   ]
  },
  {
   "cell_type": "code",
   "execution_count": 76,
   "id": "a565c5db",
   "metadata": {},
   "outputs": [],
   "source": [
    "best_params_rnd= {\n",
    "    'bootstrap':False,\n",
    "    'min_samples_leaf':1,\n",
    "    'min_samples_split':5,\n",
    "    'max_features':'auto',\n",
    "    'n_estimators':500,\n",
    "   'max_depth':11,\n",
    "    'criterion':'gini'} \n"
   ]
  },
  {
   "cell_type": "code",
   "execution_count": 77,
   "id": "557d3e7b",
   "metadata": {},
   "outputs": [],
   "source": [
    "#2. Modeling with best params\n",
    "rnd=RandomForestClassifier(**best_params_rnd)\n",
    "rnd.fit(X_train_over, y_train_over)\n",
    "y_pred_rnd=rnd.predict(test_x)"
   ]
  },
  {
   "cell_type": "code",
   "execution_count": 78,
   "id": "55fa6b6d",
   "metadata": {},
   "outputs": [
    {
     "name": "stdout",
     "output_type": "stream",
     "text": [
      "Random Forest f1 score:0.50\n",
      "Random Forest AUC score:0.74\n",
      "Random Forest Accuracy score:0.88\n"
     ]
    }
   ],
   "source": [
    "#3. Accuracy\n",
    "print('Random Forest f1 score:{:.2f}'.format(f1_score(test_y, y_pred_rnd))) \n",
    "print('Random Forest AUC score:{:.2f}'.format(roc_auc_score(test_y, y_pred_rnd)))\n",
    "print('Random Forest Accuracy score:{:.2f}'.format(accuracy_score(test_y, y_pred_rnd)))"
   ]
  },
  {
   "cell_type": "markdown",
   "id": "868f0e8d",
   "metadata": {},
   "source": [
    "### Naive Bayes"
   ]
  },
  {
   "cell_type": "code",
   "execution_count": 80,
   "id": "c2b0c6c1",
   "metadata": {},
   "outputs": [],
   "source": [
    "from sklearn.naive_bayes import GaussianNB\n",
    "from sklearn.naive_bayes import BernoulliNB"
   ]
  },
  {
   "cell_type": "code",
   "execution_count": 83,
   "id": "e90b5d34",
   "metadata": {},
   "outputs": [],
   "source": [
    "#1. GaussianNB\n",
    "#GaussianNB does not allow hyperparameter-tuning\n",
    "def gaussian(X_train_over, y_train_over,test_x):\n",
    "    gnb = GaussianNB()\n",
    "    gnb.fit(X_train_over, y_train_over)\n",
    "    y_pred=gnb.predict(test_x)\n",
    "    print('GaussianNB f1 score:{:.2f}'.format(f1_score(test_y, y_pred))) \n",
    "    print('GaussianNB AUC score:{:.2f}'.format(roc_auc_score(test_y, y_pred)))\n",
    "    print('GaussianNB Accuracy score:{:.2f}'.format(accuracy_score(test_y, y_pred)))"
   ]
  },
  {
   "cell_type": "code",
   "execution_count": 84,
   "id": "53b0cd9f",
   "metadata": {},
   "outputs": [
    {
     "name": "stdout",
     "output_type": "stream",
     "text": [
      "GaussianNB f1 score:0.35\n",
      "GaussianNB AUC score:0.71\n",
      "GaussianNB Accuracy score:0.72\n"
     ]
    }
   ],
   "source": [
    "gaussian(X_train_over, y_train_over,test_x)"
   ]
  },
  {
   "cell_type": "code",
   "execution_count": 87,
   "id": "1e05ea37",
   "metadata": {},
   "outputs": [],
   "source": [
    "#2. Bernouli\n",
    "def bernouli(X_train_over, y_train_over,test_x):\n",
    "    params = {'alpha': [0.001,0.003,0.01, 0.03,0.1,0.3,1.0,3.0,10.0],\n",
    "              'fit_prior': [True, False],\n",
    "              'binarize': [None, 0.0, 8.5, 10.0]\n",
    "             }\n",
    "\n",
    "    bernoulli_nb_grid = GridSearchCV(BernoulliNB(), param_grid=params, scoring='f1', cv=5, )\n",
    "    bernoulli_nb_grid.fit(X_train_over, y_train_over)\n",
    "    print('Best Parameters : {}'.format(bernoulli_nb_grid.best_params_))\n",
    "    \n",
    "    y_pred=bernoulli_nb_grid.predict(test_x)\n",
    "    print('BernouliNB f1 score:{:.2f}'.format(f1_score(test_y, y_pred))) \n",
    "    print('BernouliNB AUC score:{:.2f}'.format(roc_auc_score(test_y, y_pred)))\n",
    "    print('BernouliNB Accuracy score:{:.2f}'.format(accuracy_score(test_y, y_pred)))"
   ]
  },
  {
   "cell_type": "code",
   "execution_count": 88,
   "id": "595d9c09",
   "metadata": {},
   "outputs": [
    {
     "name": "stdout",
     "output_type": "stream",
     "text": [
      "Best Parameters : {'alpha': 0.001, 'binarize': None, 'fit_prior': True}\n",
      "BernouliNB f1 score:0.38\n",
      "BernouliNB AUC score:0.72\n",
      "BernouliNB Accuracy score:0.75\n"
     ]
    }
   ],
   "source": [
    "bernouli(X_train_over, y_train_over,test_x)"
   ]
  },
  {
   "cell_type": "code",
   "execution_count": 89,
   "id": "fb3743eb",
   "metadata": {},
   "outputs": [],
   "source": [
    "#Bernouli is better\n",
    "best_params_nb={'alpha': 0.001, 'binarize': None, 'fit_prior': True}"
   ]
  },
  {
   "cell_type": "code",
   "execution_count": 92,
   "id": "cf96a748",
   "metadata": {},
   "outputs": [],
   "source": [
    "#3. Bernouli modeling with best params\n",
    "nb=BernoulliNB(**best_params_nb)\n",
    "nb.fit(X_train_over, y_train_over)\n",
    "y_pred_nb=nb.predict(test_x)"
   ]
  },
  {
   "cell_type": "code",
   "execution_count": 94,
   "id": "a5ff7059",
   "metadata": {},
   "outputs": [
    {
     "name": "stdout",
     "output_type": "stream",
     "text": [
      "BernouliNB f1 score:0.38\n",
      "BernouliNB AUC score:0.72\n",
      "BernouliNB Accuracy score:0.75\n"
     ]
    }
   ],
   "source": [
    "print('BernouliNB f1 score:{:.2f}'.format(f1_score(test_y, y_pred_nb))) \n",
    "print('BernouliNB AUC score:{:.2f}'.format(roc_auc_score(test_y, y_pred_nb)))\n",
    "print('BernouliNB Accuracy score:{:.2f}'.format(accuracy_score(test_y, y_pred_nb)))"
   ]
  },
  {
   "cell_type": "markdown",
   "id": "7ffd30e7",
   "metadata": {},
   "source": [
    "### XGboost"
   ]
  },
  {
   "cell_type": "code",
   "execution_count": 96,
   "id": "475e64f7",
   "metadata": {},
   "outputs": [],
   "source": [
    "from xgboost import XGBClassifier"
   ]
  },
  {
   "cell_type": "code",
   "execution_count": null,
   "id": "a6dd18d1",
   "metadata": {},
   "outputs": [],
   "source": [
    "#1. Grid Search\n",
    "params = {\n",
    "         'reg_alpha':[0,1e-05,1e-03,0.01,1],\n",
    "          'learning_rate':[0.01,0.1,0.3],\n",
    "          'min_child_weight':[6,7,8],\n",
    "          'max_depth':[9,10,11],\n",
    "          'gamma':[0,0.1,0.4,1],\n",
    "          'n_estimators':[100,500,1000]\n",
    "        \n",
    "        }                                 \n",
    "xgb_clf = XGBClassifier(\n",
    "             subsample=0.75,\n",
    "             colsample_bytree=0.8,\n",
    "             objective= 'binary:logistic',\n",
    "             scale_pos_weight=1,\n",
    "             n_jobs=-1\n",
    ")\n",
    "xgb_gs=GridSearchCV(xgb_clf, param_grid=params, scoring='f1', cv=5 )"
   ]
  },
  {
   "cell_type": "code",
   "execution_count": 98,
   "id": "4b511896",
   "metadata": {},
   "outputs": [],
   "source": [
    "best_params_xgb={\n",
    " 'learning_rate': 0.1,\n",
    " 'max_depth': 11,\n",
    " 'min_child_weight': 8,\n",
    " 'reg_alpha': 0.001,\n",
    " 'gamma':0.4,\n",
    " 'n_estimators':100}"
   ]
  },
  {
   "cell_type": "code",
   "execution_count": 103,
   "id": "1039f20f",
   "metadata": {},
   "outputs": [],
   "source": [
    "#2. Modeling with best params\n",
    "xgb= XGBClassifier(\n",
    "             **best_params_xgb,\n",
    "             subsample=0.75,\n",
    "             colsample_bytree=0.8,\n",
    "             objective= 'binary:logistic',\n",
    "             scale_pos_weight=1,\n",
    "             n_jobs=-1\n",
    ")\n",
    "xgb.fit(X_train_over, y_train_over)\n",
    "y_pred_xgb=xgb.predict(test_x)"
   ]
  },
  {
   "cell_type": "code",
   "execution_count": 104,
   "id": "bcc4604f",
   "metadata": {},
   "outputs": [
    {
     "name": "stdout",
     "output_type": "stream",
     "text": [
      "XGboost f1 score:0.42\n",
      "XGboost AUC score:0.65\n",
      "XGboost Accuracy score:0.90\n"
     ]
    }
   ],
   "source": [
    "#3. Accuracy\n",
    "print('XGboost f1 score:{:.2f}'.format(f1_score(test_y, y_pred_xgb))) \n",
    "print('XGboost AUC score:{:.2f}'.format(roc_auc_score(test_y, y_pred_xgb)))\n",
    "print('XGboost Accuracy score:{:.2f}'.format(accuracy_score(test_y, y_pred_xgb)))"
   ]
  },
  {
   "cell_type": "markdown",
   "id": "398f9189",
   "metadata": {},
   "source": [
    "### Decision Tree"
   ]
  },
  {
   "cell_type": "code",
   "execution_count": 105,
   "id": "0fa9722d",
   "metadata": {},
   "outputs": [],
   "source": [
    "from sklearn.tree import DecisionTreeClassifier"
   ]
  },
  {
   "cell_type": "code",
   "execution_count": 124,
   "id": "3d1c0431",
   "metadata": {},
   "outputs": [
    {
     "data": {
      "text/plain": [
       "{'min_samples_leaf': 1, 'min_samples_split': 3}"
      ]
     },
     "execution_count": 124,
     "metadata": {},
     "output_type": "execute_result"
    }
   ],
   "source": [
    "#1. Grid Search\n",
    "dt_clf=DecisionTreeClassifier(min_samples_leaf=1,criterion='gini',max_depth=9)\n",
    "params = {\n",
    "        'min_samples_leaf':np.arange(1, 8),\n",
    "        'min_samples_split':np.arange(2, 8)\n",
    "        }      \n",
    "dt_gs=GridSearchCV(dt_clf,param_grid=params, scoring='f1', cv=5 )\n",
    "dt_gs.fit(X_train_over, y_train_over)\n",
    "y_pred_dt=dt_gs.predict(test_x)\n",
    "dt_gs.best_params_"
   ]
  },
  {
   "cell_type": "code",
   "execution_count": 126,
   "id": "f471156f",
   "metadata": {},
   "outputs": [],
   "source": [
    "best_params_dt={'min_samples_leaf': 1,'criterion': 'gini','max_depth': 9,'min_samples_leaf': 1, 'min_samples_split': 3}"
   ]
  },
  {
   "cell_type": "code",
   "execution_count": 127,
   "id": "88b31e12",
   "metadata": {},
   "outputs": [],
   "source": [
    "#2. Modeling with best params\n",
    "dt=DecisionTreeClassifier(**best_params_dt)\n",
    "dt.fit(X_train_over, y_train_over)\n",
    "y_pred_dt=dt.predict(test_x)"
   ]
  },
  {
   "cell_type": "code",
   "execution_count": 128,
   "id": "80a4c63c",
   "metadata": {},
   "outputs": [
    {
     "name": "stdout",
     "output_type": "stream",
     "text": [
      "Decision Tree f1 score:0.43\n",
      "Decision Tree AUC score:0.68\n",
      "Decision Tree Accuracy score:0.88\n"
     ]
    }
   ],
   "source": [
    "#3. Accuracy\n",
    "print('Decision Tree f1 score:{:.2f}'.format(f1_score(test_y, y_pred_dt))) \n",
    "print('Decision Tree AUC score:{:.2f}'.format(roc_auc_score(test_y, y_pred_dt)))\n",
    "print('Decision Tree Accuracy score:{:.2f}'.format(accuracy_score(test_y, y_pred_dt)))"
   ]
  },
  {
   "cell_type": "code",
   "execution_count": 143,
   "id": "a9a92154",
   "metadata": {},
   "outputs": [
    {
     "data": {
      "text/plain": [
       "Text(0.5, 0, 'Decision Tree Feature Importance')"
      ]
     },
     "execution_count": 143,
     "metadata": {},
     "output_type": "execute_result"
    },
    {
     "data": {
      "image/png": "[encoded data removed]",
      "text/plain": [
       "<Figure size 640x480 with 1 Axes>"
      ]
     },
     "metadata": {},
     "output_type": "display_data"
    }
   ],
   "source": [
    "#4. Visualize weight\n",
    "#select top 10 features\n",
    "importances = dt.feature_importances_\n",
    "sorted_idx = importances.argsort()\n",
    "plt.barh(X_train_over.columns[sorted_idx][0:10], dt.feature_importances_[sorted_idx][0:10])\n",
    "plt.xlabel(\"Decision Tree Feature Importance\")"
   ]
  },
  {
   "cell_type": "code",
   "execution_count": null,
   "id": "c953f9b5",
   "metadata": {},
   "outputs": [],
   "source": []
  },
  {
   "cell_type": "code",
   "execution_count": null,
   "id": "33637851",
   "metadata": {},
   "outputs": [],
   "source": []
  }
 ],
 "metadata": {
  "kernelspec": {
   "display_name": "Python 3 (ipykernel)",
   "language": "python",
   "name": "python3"
  },
  "language_info": {
   "codemirror_mode": {
    "name": "ipython",
    "version": 3
   },
   "file_extension": ".py",
   "mimetype": "text/x-python",
   "name": "python",
   "nbconvert_exporter": "python",
   "pygments_lexer": "ipython3",
   "version": "3.9.13"
  }
 },
 "nbformat": 4,
 "nbformat_minor": 5
}
